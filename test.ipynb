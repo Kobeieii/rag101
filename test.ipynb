{
 "cells": [
  {
   "cell_type": "code",
   "execution_count": 1,
   "id": "c7bdb4a6",
   "metadata": {},
   "outputs": [],
   "source": [
    "import ollama"
   ]
  },
  {
   "cell_type": "code",
   "execution_count": 7,
   "id": "db783e92",
   "metadata": {},
   "outputs": [
    {
     "data": {
      "text/plain": [
       "'กรุงเทพมหานคร (Bangkok) เป็นเมืองหลวงของประเทศไทย'"
      ]
     },
     "execution_count": 7,
     "metadata": {},
     "output_type": "execute_result"
    }
   ],
   "source": [
    "prompt = \"What is the capital of Thailand?\"\n",
    "\n",
    "response = ollama.chat(model=\"llama3.2\", messages=[\n",
    "    {\"role\": \"system\", \"content\": \"You are Thai woman. Answer in Thai.\"},\n",
    "    {\"role\": \"user\", \"content\": prompt}\n",
    "])\n",
    "response.message.content"
   ]
  },
  {
   "cell_type": "code",
   "execution_count": null,
   "id": "f8e18541",
   "metadata": {},
   "outputs": [],
   "source": []
  }
 ],
 "metadata": {
  "kernelspec": {
   "display_name": "rag-example (3.10.10)",
   "language": "python",
   "name": "python3"
  },
  "language_info": {
   "codemirror_mode": {
    "name": "ipython",
    "version": 3
   },
   "file_extension": ".py",
   "mimetype": "text/x-python",
   "name": "python",
   "nbconvert_exporter": "python",
   "pygments_lexer": "ipython3",
   "version": "3.10.10"
  }
 },
 "nbformat": 4,
 "nbformat_minor": 5
}
